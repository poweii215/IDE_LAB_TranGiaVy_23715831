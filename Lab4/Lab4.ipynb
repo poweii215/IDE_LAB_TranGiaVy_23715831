{
 "cells": [
  {
   "cell_type": "code",
   "execution_count": 3,
   "id": "c53034c4-a67d-438f-bff2-39bb7e99aa7d",
   "metadata": {},
   "outputs": [
    {
     "ename": "TypeError",
     "evalue": "NDFrame.to_excel() got an unexpected keyword argument 'encoding'",
     "output_type": "error",
     "traceback": [
      "\u001b[1;31m---------------------------------------------------------------------------\u001b[0m",
      "\u001b[1;31mTypeError\u001b[0m                                 Traceback (most recent call last)",
      "Cell \u001b[1;32mIn[3], line 35\u001b[0m\n\u001b[0;32m     33\u001b[0m \u001b[38;5;66;03m# Lưu ra Excel\u001b[39;00m\n\u001b[0;32m     34\u001b[0m df \u001b[38;5;241m=\u001b[39m pd\u001b[38;5;241m.\u001b[39mDataFrame(data, columns\u001b[38;5;241m=\u001b[39m[\u001b[38;5;124m\"\u001b[39m\u001b[38;5;124mTiêu đề\u001b[39m\u001b[38;5;124m\"\u001b[39m, \u001b[38;5;124m\"\u001b[39m\u001b[38;5;124mNgày đăng\u001b[39m\u001b[38;5;124m\"\u001b[39m, \u001b[38;5;124m\"\u001b[39m\u001b[38;5;124mLink\u001b[39m\u001b[38;5;124m\"\u001b[39m])\n\u001b[1;32m---> 35\u001b[0m df\u001b[38;5;241m.\u001b[39mto_excel(\u001b[38;5;124m\"\u001b[39m\u001b[38;5;124mtin_tuc_iuh.xlsx\u001b[39m\u001b[38;5;124m\"\u001b[39m, encoding\u001b[38;5;241m=\u001b[39m\u001b[38;5;124m'\u001b[39m\u001b[38;5;124mutf-8\u001b[39m\u001b[38;5;124m'\u001b[39m, index\u001b[38;5;241m=\u001b[39m\u001b[38;5;28;01mFalse\u001b[39;00m)\n\u001b[0;32m     37\u001b[0m \u001b[38;5;28mprint\u001b[39m(\u001b[38;5;124m\"\u001b[39m\u001b[38;5;124m✅ Đã lưu 10 tin tức gần nhất vào file \u001b[39m\u001b[38;5;124m'\u001b[39m\u001b[38;5;124mtin_tuc_iuh.xlsx\u001b[39m\u001b[38;5;124m'\u001b[39m\u001b[38;5;124m\"\u001b[39m)\n\u001b[0;32m     38\u001b[0m \u001b[38;5;28mprint\u001b[39m(df)\n",
      "\u001b[1;31mTypeError\u001b[0m: NDFrame.to_excel() got an unexpected keyword argument 'encoding'"
     ]
    }
   ],
   "source": [
    "from selenium import webdriver\n",
    "from selenium.webdriver.common.by import By\n",
    "from selenium.webdriver.chrome.options import Options\n",
    "from bs4 import BeautifulSoup\n",
    "import pandas as pd\n",
    "import time\n",
    "\n",
    "# Cấu hình Selenium\n",
    "options = Options()\n",
    "options.add_argument(\"--headless\")  # Nếu muốn ẩn trình duyệt\n",
    "options.add_argument(\"--window-size=1920,1080\")\n",
    "\n",
    "# Khởi tạo trình duyệt\n",
    "driver = webdriver.Chrome(options=options)\n",
    "driver.get(\"https://sv.iuh.edu.vn/sinh-vien-dang-nhap.html#\")\n",
    "time.sleep(5)  # Đợi trang load\n",
    "\n",
    "# Phân tích HTML\n",
    "soup = BeautifulSoup(driver.page_source, \"html.parser\")\n",
    "\n",
    "# Tìm box chứa tin tức\n",
    "tin_tuc_container = soup.find(\"div\", class_=\"tab-content\")\n",
    "tin_tuc_items = tin_tuc_container.find_all(\"div\", class_=\"item-news\", limit=10)\n",
    "\n",
    "# Lấy dữ liệu\n",
    "data = []\n",
    "for item in tin_tuc_items:\n",
    "    tieu_de = item.find(\"a\").text.strip()\n",
    "    link = \"https://sv.iuh.edu.vn\" + item.find(\"a\")[\"href\"]\n",
    "    ngay_dang = item.find(\"span\", class_=\"date\").text.strip() if item.find(\"span\", class_=\"date\") else \"\"\n",
    "    data.append([tieu_de, ngay_dang, link])\n",
    "\n",
    "# Lưu ra Excel\n",
    "df = pd.DataFrame(data, columns=[\"Tiêu đề\", \"Ngày đăng\", \"Link\"])\n",
    "df.to_excel(\"tin_tuc_iuh.xlsx\", encoding='utf-8', index=False)\n",
    "\n",
    "print(\"✅ Đã lưu 10 tin tức gần nhất vào file 'tin_tuc_iuh.xlsx'\")\n",
    "print(df)\n",
    "\n",
    "driver.quit()\n"
   ]
  },
  {
   "cell_type": "code",
   "execution_count": null,
   "id": "92d70393-4f64-4839-847d-92819f707e14",
   "metadata": {},
   "outputs": [],
   "source": []
  }
 ],
 "metadata": {
  "kernelspec": {
   "display_name": "Python [conda env:base] *",
   "language": "python",
   "name": "conda-base-py"
  },
  "language_info": {
   "codemirror_mode": {
    "name": "ipython",
    "version": 3
   },
   "file_extension": ".py",
   "mimetype": "text/x-python",
   "name": "python",
   "nbconvert_exporter": "python",
   "pygments_lexer": "ipython3",
   "version": "3.11.7"
  }
 },
 "nbformat": 4,
 "nbformat_minor": 5
}
